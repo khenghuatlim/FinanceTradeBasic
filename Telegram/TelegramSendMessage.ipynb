{
 "cells": [
  {
   "cell_type": "markdown",
   "metadata": {},
   "source": [
    "# Remember install the module \"python-telegram-bot\"\n",
    "`pip3 install python-telegram-bot`\n",
    "\n",
    "### You need to create the bot\n",
    "https://core.telegram.org/bots/features#botfather\n",
    "\n",
    "### Get your chat_id here\n",
    "Simple way to get your chat_id https://medium.com/@2mau/how-to-get-a-chat-id-in-telegram-1861a33ca1de\n"
   ]
  },
  {
   "cell_type": "code",
   "execution_count": 1,
   "metadata": {},
   "outputs": [],
   "source": [
    "import asyncio\n",
    "import telegram\n",
    "import logging\n",
    "from telegram.constants import ParseMode\n",
    "\n"
   ]
  },
  {
   "cell_type": "code",
   "execution_count": 2,
   "metadata": {},
   "outputs": [],
   "source": [
    "TOKEN='<your token here>'\n",
    "CHAT_ID = '<YOUR chat id>'\n",
    "logging.basicConfig(\n",
    "    format='%(asctime)s - %(name)s - %(levelname)s - %(message)s', level=logging.INFO\n",
    ")\n"
   ]
  },
  {
   "cell_type": "code",
   "execution_count": 3,
   "metadata": {},
   "outputs": [],
   "source": [
    "# simple supported html tag https://botize.com/en/method/telegrambot/send_message_photo\n",
    "async def main():\n",
    "    bot = telegram.Bot(TOKEN)\n",
    "    async with bot:\n",
    "        await bot.send_message(text='Hi KH. This is testing!', chat_id=CHAT_ID)\n",
    "        await bot.send_message(text=\"<code>inline fixed-width code</code>\", chat_id=CHAT_ID, parse_mode=ParseMode.HTML)\n"
   ]
  },
  {
   "cell_type": "code",
   "execution_count": 9,
   "metadata": {},
   "outputs": [
    {
     "name": "stderr",
     "output_type": "stream",
     "text": [
      "C:\\Users\\KH\\.pyenv\\pyenv-win\\versions\\3.11.6\\Lib\\dataclasses.py:433: RuntimeWarning: coroutine 'main' was never awaited\n",
      "  exec(txt, globals, ns)\n",
      "RuntimeWarning: Enable tracemalloc to get the object allocation traceback\n",
      "2024-01-26 15:54:37,939 - httpx - INFO - HTTP Request: POST https://api.telegram.org/bot723518157:AAHIBojbjeDbt-c2Cw-O7Npeljo7akI6FkA/getMe \"HTTP/1.1 200 OK\"\n",
      "2024-01-26 15:54:38,398 - httpx - INFO - HTTP Request: POST https://api.telegram.org/bot723518157:AAHIBojbjeDbt-c2Cw-O7Npeljo7akI6FkA/sendMessage \"HTTP/1.1 200 OK\"\n",
      "2024-01-26 15:54:38,780 - httpx - INFO - HTTP Request: POST https://api.telegram.org/bot723518157:AAHIBojbjeDbt-c2Cw-O7Npeljo7akI6FkA/sendMessage \"HTTP/1.1 200 OK\"\n"
     ]
    }
   ],
   "source": [
    "await(main())\n"
   ]
  }
 ],
 "metadata": {
  "kernelspec": {
   "display_name": "ML",
   "language": "python",
   "name": "python3"
  },
  "language_info": {
   "codemirror_mode": {
    "name": "ipython",
    "version": 3
   },
   "file_extension": ".py",
   "mimetype": "text/x-python",
   "name": "python",
   "nbconvert_exporter": "python",
   "pygments_lexer": "ipython3",
   "version": "3.11.6"
  }
 },
 "nbformat": 4,
 "nbformat_minor": 2
}
