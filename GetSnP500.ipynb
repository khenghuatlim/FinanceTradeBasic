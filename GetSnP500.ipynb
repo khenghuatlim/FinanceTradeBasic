{
 "cells": [
  {
   "cell_type": "markdown",
   "metadata": {},
   "source": [
    "### Pull S&P 500 stock tickers"
   ]
  },
  {
   "cell_type": "code",
   "execution_count": 11,
   "metadata": {},
   "outputs": [],
   "source": [
    "import requests\n",
    "from bs4 import BeautifulSoup\n",
    "import time\n",
    "import csv\n",
    "import os"
   ]
  },
  {
   "cell_type": "code",
   "execution_count": 3,
   "metadata": {},
   "outputs": [],
   "source": [
    "# URL for S & P 500\n",
    "url_500     = 'http://en.wikipedia.org/wiki/List_of_S%26P_500_companies'\n",
    "\n",
    "# if the file > 10 days, get the latest\n",
    "time_days = 10*24*60*60\n",
    "file500 = \"sp_500.csv\""
   ]
  },
  {
   "cell_type": "code",
   "execution_count": 19,
   "metadata": {},
   "outputs": [],
   "source": [
    "def get_sp_500():\n",
    "    dir = os.path.abspath('') + os.path.sep    \n",
    "    file_exists = os.path.exists(dir+file500)\n",
    "\n",
    "    resp = requests.get(url_500)\n",
    "    soup = BeautifulSoup(resp.text, 'html.parser')\n",
    "    # search for the html class name\n",
    "    table = soup.find('table', {'class': 'wikitable sortable'})\n",
    "    tickers = []\n",
    "\n",
    "    for row in table.findAll('tr')[1:]:\n",
    "        ticker = row.findAll('td')[0].text\n",
    "        ticker = ticker.replace('\\n', '')\n",
    "        tickers.append(ticker)\n",
    "\n",
    "    if not file_exists:\n",
    "        with open('sp_500.csv', 'w') as csvfile:\n",
    "            writer = csv.writer(csvfile)\n",
    "            writer.writerow(tickers)\n",
    "\n",
    "\n",
    "    if file_exists and time.time() - os.path.getmtime(dir+file500) > time_days :\n",
    "        with open('sp_500.csv', 'w') as csvfile:\n",
    "            writer = csv.writer(csvfile)\n",
    "            writer.writerow(tickers)"
   ]
  },
  {
   "cell_type": "code",
   "execution_count": 20,
   "metadata": {},
   "outputs": [],
   "source": [
    "get_sp_500()"
   ]
  },
  {
   "cell_type": "code",
   "execution_count": null,
   "metadata": {},
   "outputs": [],
   "source": []
  }
 ],
 "metadata": {
  "kernelspec": {
   "display_name": "Python 3",
   "language": "python",
   "name": "python3"
  },
  "language_info": {
   "codemirror_mode": {
    "name": "ipython",
    "version": 3
   },
   "file_extension": ".py",
   "mimetype": "text/x-python",
   "name": "python",
   "nbconvert_exporter": "python",
   "pygments_lexer": "ipython3",
   "version": "3.11.6"
  }
 },
 "nbformat": 4,
 "nbformat_minor": 2
}
